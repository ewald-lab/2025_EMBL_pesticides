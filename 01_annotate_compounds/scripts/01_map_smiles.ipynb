{
 "cells": [
  {
   "cell_type": "markdown",
   "id": "ec676db2",
   "metadata": {},
   "source": [
    "# Map pesticide and drug SMILES to DTXSID"
   ]
  },
  {
   "cell_type": "code",
   "execution_count": 14,
   "id": "20d48560",
   "metadata": {},
   "outputs": [],
   "source": [
    "import polars as pl\n",
    "import pandas as pd\n",
    "import math\n",
    "from standardize_smiles import StandardizeMolecule"
   ]
  },
  {
   "cell_type": "code",
   "execution_count": 5,
   "id": "a6b4f081",
   "metadata": {},
   "outputs": [],
   "source": [
    "data_dir = \"/data\""
   ]
  },
  {
   "cell_type": "code",
   "execution_count": null,
   "id": "44335f9b",
   "metadata": {},
   "outputs": [],
   "source": [
    "# Read in compound lists\n",
    "pesticides = pd.read_csv(f\"../{data_dir}/pesticides.csv\")\n",
    "drugs = pd.read_csv(f\"../{data_dir}/pesticides.csv\")"
   ]
  },
  {
   "cell_type": "code",
   "execution_count": 9,
   "id": "d185e6bd",
   "metadata": {},
   "outputs": [
    {
     "name": "stderr",
     "output_type": "stream",
     "text": [
      "  0%|          | 1/993 [00:00<07:04,  2.34it/s]ERROR:root:Reading Error, 0\n",
      " 81%|████████  | 806/993 [00:13<00:01, 94.43it/s] ERROR:root:Reading Error, [H][C@@]12CC(=O)N3c4ccccc4[C@]56CC[N@H]7CC(=CCO1)[C@]([H])(C[C@@H]57)[C@]2([H])[C@]36[H]\n",
      "100%|██████████| 993/993 [00:17<00:00, 58.14it/s] \n",
      "  0%|          | 1/993 [00:00<06:44,  2.45it/s]ERROR:root:Reading Error, 0\n",
      " 80%|████████  | 799/993 [00:13<00:01, 99.77it/s] ERROR:root:Reading Error, [H][C@@]12CC(=O)N3c4ccccc4[C@]56CC[N@H]7CC(=CCO1)[C@]([H])(C[C@@H]57)[C@]2([H])[C@]36[H]\n",
      "100%|██████████| 993/993 [00:17<00:00, 56.34it/s] \n"
     ]
    }
   ],
   "source": [
    "# Standardize the smiles\n",
    "standardized_pesticides = StandardizeMolecule(input=pesticides, augment=True).run()\n",
    "standardized_drugs = StandardizeMolecule(input=drugs, augment=True).run()"
   ]
  },
  {
   "cell_type": "code",
   "execution_count": null,
   "id": "fb45f450",
   "metadata": {},
   "outputs": [],
   "source": [
    "# Process RefChemDB\n",
    "refchemdb = pl.read_csv(f\"../{data_dir}/refchemdb/refchemdb.csv\").select(\n",
    "    'dsstox_substance_id'\n",
    ").unique()\n",
    "\n",
    "chunk_size = 10_000\n",
    "total_rows = refchemdb.height\n",
    "num_chunks = math.ceil(total_rows / chunk_size)\n",
    "\n",
    "for i in range(num_chunks):\n",
    "    start = i * chunk_size\n",
    "    end = min(start + chunk_size, total_rows)\n",
    "    chunk = refchemdb.slice(start, end - start)\n",
    "    chunk.write_csv(f\"../{data_dir}/refchemdb/input_comptoxdb/refchemdb_dtxsid_{i+1}.csv\")"
   ]
  }
 ],
 "metadata": {
  "kernelspec": {
   "display_name": "pesticides",
   "language": "python",
   "name": "python3"
  },
  "language_info": {
   "codemirror_mode": {
    "name": "ipython",
    "version": 3
   },
   "file_extension": ".py",
   "mimetype": "text/x-python",
   "name": "python",
   "nbconvert_exporter": "python",
   "pygments_lexer": "ipython3",
   "version": "3.12.11"
  }
 },
 "nbformat": 4,
 "nbformat_minor": 5
}
